{
 "cells": [
  {
   "cell_type": "code",
   "execution_count": 1,
   "id": "ff6c28e5",
   "metadata": {},
   "outputs": [],
   "source": [
    "import pandas as pd\n",
    "import numpy as np\n",
    "import networkx as nx\n",
    "import matplotlib.pyplot as plt\n",
    "import ipywidgets as widgets\n",
    "from IPython.display import display\n"
   ]
  },
  {
   "cell_type": "code",
   "execution_count": 2,
   "id": "2a9b1f8b",
   "metadata": {},
   "outputs": [
    {
     "data": {
      "text/html": [
       "<div>\n",
       "<style scoped>\n",
       "    .dataframe tbody tr th:only-of-type {\n",
       "        vertical-align: middle;\n",
       "    }\n",
       "\n",
       "    .dataframe tbody tr th {\n",
       "        vertical-align: top;\n",
       "    }\n",
       "\n",
       "    .dataframe thead th {\n",
       "        text-align: right;\n",
       "    }\n",
       "</style>\n",
       "<table border=\"1\" class=\"dataframe\">\n",
       "  <thead>\n",
       "    <tr style=\"text-align: right;\">\n",
       "      <th></th>\n",
       "      <th>start</th>\n",
       "      <th>end</th>\n",
       "      <th>distance</th>\n",
       "      <th>terrain_difficulty</th>\n",
       "      <th>material_cost_per_unit</th>\n",
       "      <th>labor_cost_per_unit</th>\n",
       "    </tr>\n",
       "  </thead>\n",
       "  <tbody>\n",
       "    <tr>\n",
       "      <th>0</th>\n",
       "      <td>A</td>\n",
       "      <td>B</td>\n",
       "      <td>5</td>\n",
       "      <td>1</td>\n",
       "      <td>70</td>\n",
       "      <td>40</td>\n",
       "    </tr>\n",
       "    <tr>\n",
       "      <th>1</th>\n",
       "      <td>A</td>\n",
       "      <td>C</td>\n",
       "      <td>7</td>\n",
       "      <td>2</td>\n",
       "      <td>65</td>\n",
       "      <td>35</td>\n",
       "    </tr>\n",
       "    <tr>\n",
       "      <th>2</th>\n",
       "      <td>B</td>\n",
       "      <td>D</td>\n",
       "      <td>6</td>\n",
       "      <td>1</td>\n",
       "      <td>80</td>\n",
       "      <td>45</td>\n",
       "    </tr>\n",
       "    <tr>\n",
       "      <th>3</th>\n",
       "      <td>C</td>\n",
       "      <td>D</td>\n",
       "      <td>3</td>\n",
       "      <td>3</td>\n",
       "      <td>90</td>\n",
       "      <td>50</td>\n",
       "    </tr>\n",
       "    <tr>\n",
       "      <th>4</th>\n",
       "      <td>C</td>\n",
       "      <td>E</td>\n",
       "      <td>4</td>\n",
       "      <td>2</td>\n",
       "      <td>55</td>\n",
       "      <td>25</td>\n",
       "    </tr>\n",
       "    <tr>\n",
       "      <th>5</th>\n",
       "      <td>D</td>\n",
       "      <td>F</td>\n",
       "      <td>8</td>\n",
       "      <td>1</td>\n",
       "      <td>60</td>\n",
       "      <td>30</td>\n",
       "    </tr>\n",
       "    <tr>\n",
       "      <th>6</th>\n",
       "      <td>E</td>\n",
       "      <td>F</td>\n",
       "      <td>5</td>\n",
       "      <td>2</td>\n",
       "      <td>75</td>\n",
       "      <td>40</td>\n",
       "    </tr>\n",
       "  </tbody>\n",
       "</table>\n",
       "</div>"
      ],
      "text/plain": [
       "  start end  distance  terrain_difficulty  material_cost_per_unit  \\\n",
       "0     A   B         5                   1                      70   \n",
       "1     A   C         7                   2                      65   \n",
       "2     B   D         6                   1                      80   \n",
       "3     C   D         3                   3                      90   \n",
       "4     C   E         4                   2                      55   \n",
       "5     D   F         8                   1                      60   \n",
       "6     E   F         5                   2                      75   \n",
       "\n",
       "   labor_cost_per_unit  \n",
       "0                   40  \n",
       "1                   35  \n",
       "2                   45  \n",
       "3                   50  \n",
       "4                   25  \n",
       "5                   30  \n",
       "6                   40  "
      ]
     },
     "execution_count": 2,
     "metadata": {},
     "output_type": "execute_result"
    }
   ],
   "source": [
    "np.random.seed(42)\n",
    "nodes = ['A', 'B', 'C', 'D', 'E', 'F']\n",
    "edges = [('A', 'B'), ('A', 'C'), ('B', 'D'), ('C', 'D'), ('C', 'E'), ('D', 'F'), ('E', 'F')]\n",
    "\n",
    "# edge_data = []\n",
    "# for start, end in edges:\n",
    "#     distance = np.random.randint(5, 11)\n",
    "#     terrain = np.random.randint(1, 4)\n",
    "#     material_cost = np.round(np.random.uniform(50, 100), 2)\n",
    "#     labor_cost = np.round(np.random.uniform(20, 50), 2)\n",
    "#     edge_data.append([start, end, distance, terrain, material_cost, labor_cost])\n",
    "edge_data = [\n",
    "        ['A', 'B', 5, 1, 70, 40],\n",
    "        ['A', 'C', 7, 2, 65, 35],\n",
    "        ['B', 'D', 6, 1, 80, 45],\n",
    "        ['C', 'D', 3, 3, 90, 50],\n",
    "        ['C', 'E', 4, 2, 55, 25],\n",
    "        ['D', 'F', 8, 1, 60, 30],\n",
    "        ['E', 'F', 5, 2, 75, 40]\n",
    "    ]\n",
    "df = pd.DataFrame(edge_data, columns=[\n",
    "    'start', 'end', 'distance', 'terrain_difficulty', 'material_cost_per_unit', 'labor_cost_per_unit'\n",
    "])\n",
    "df\n"
   ]
  },
  {
   "cell_type": "code",
   "execution_count": 3,
   "id": "8e0f1483",
   "metadata": {},
   "outputs": [],
   "source": [
    "G = nx.Graph()\n",
    "for idx, row in df.iterrows():\n",
    "    cost_per_km = row['material_cost_per_unit'] + row['labor_cost_per_unit']\n",
    "    weight = row['distance']   * cost_per_km\n",
    "    G.add_edge(\n",
    "        row['start'], row['end'],\n",
    "        weight=weight,\n",
    "        distance=row['distance'],\n",
    "        terrain=row['terrain_difficulty'],\n",
    "        material_cost=row['material_cost_per_unit'],\n",
    "        labor_cost=row['labor_cost_per_unit']\n",
    "    )\n"
   ]
  },
  {
   "cell_type": "code",
   "execution_count": 4,
   "id": "0e7f0d9e",
   "metadata": {},
   "outputs": [
    {
     "data": {
      "application/vnd.jupyter.widget-view+json": {
       "model_id": "e300d0a2d34d4ec18cab05f10f872bf1",
       "version_major": 2,
       "version_minor": 0
      },
      "text/plain": [
       "Dropdown(description='Start:', options=('A', 'B', 'C', 'D', 'E', 'F'), value='A')"
      ]
     },
     "metadata": {},
     "output_type": "display_data"
    },
    {
     "data": {
      "application/vnd.jupyter.widget-view+json": {
       "model_id": "af1cf8f2865d40f9a7ec5b6fceaf6a22",
       "version_major": 2,
       "version_minor": 0
      },
      "text/plain": [
       "Dropdown(description='End:', index=5, options=('A', 'B', 'C', 'D', 'E', 'F'), value='F')"
      ]
     },
     "metadata": {},
     "output_type": "display_data"
    }
   ],
   "source": [
    "start_node = widgets.Dropdown(options=list(G.nodes), description='Start:', value='A')\n",
    "end_node = widgets.Dropdown(options=list(G.nodes), description='End:', value='F')\n",
    "display(start_node, end_node)\n"
   ]
  },
  {
   "cell_type": "code",
   "execution_count": 5,
   "id": "26e61f89",
   "metadata": {},
   "outputs": [
    {
     "name": "stdout",
     "output_type": "stream",
     "text": [
      "📍 All Paths from A to F:\n",
      "\n",
      "1. A ➝ C ➝ E ➝ F   Cost: ₹159500.00 Optimal\n",
      "2. A ➝ C ➝ D ➝ F   Cost: ₹184000.00 \n",
      "3. A ➝ B ➝ D ➝ F   Cost: ₹202000.00 \n"
     ]
    }
   ],
   "source": [
    "source = start_node.value\n",
    "target = end_node.value\n",
    "\n",
    "def calculate_path_cost(path):\n",
    "    cost = 0\n",
    "    for i in range(len(path) - 1):\n",
    "        u, v = path[i], path[i+1]\n",
    "        edge = G[u][v]\n",
    "        cost += edge['distance']  * (edge['material_cost'] + edge['labor_cost'])\n",
    "    return cost\n",
    "\n",
    "all_paths = list(nx.all_simple_paths(G, source=source, target=target))\n",
    "path_costs = [(p, calculate_path_cost(p)) for p in all_paths]\n",
    "path_costs.sort(key=lambda x: x[1])\n",
    "\n",
    "# Display top 3 paths\n",
    "print(f\"📍 All Paths from {source} to {target}:\\n\")\n",
    "for i, (p, c) in enumerate(path_costs[:3]):\n",
    "    tag = \"Optimal\" if i == 0 else \"\"\n",
    "    print(f\"{i+1}. {' ➝ '.join(p)}   Cost: ₹{c*100:.2f} {tag}\")\n",
    "\n",
    "# Extract the optimal path\n",
    "path = path_costs[0][0]\n",
    "total_cost = path_costs[0][1]\n"
   ]
  },
  {
   "cell_type": "code",
   "execution_count": 6,
   "id": "8dc55518",
   "metadata": {},
   "outputs": [
    {
     "data": {
      "image/png": "[encoded data removed]",
      "text/plain": [
       "<Figure size 1000x600 with 1 Axes>"
      ]
     },
     "metadata": {},
     "output_type": "display_data"
    }
   ],
   "source": [
    "pos = {\n",
    "    'A': (100, 300),\n",
    "    'B': (500, 350),\n",
    "    'C': (200, 200),\n",
    "    'D': (400, 200),\n",
    "    'E': (600, 100),\n",
    "    'F': (700, 300)\n",
    "}\n",
    "\n",
    "plt.figure(figsize=(10, 6))\n",
    "nx.draw(G, pos, with_labels=True, node_color='lightblue', node_size=1000, edge_color='gray', width=2)\n",
    "nx.draw_networkx_edge_labels(G, pos, edge_labels={(u,v): f\"{G[u][v]['distance']}km\" for u,v in G.edges()})\n",
    "\n",
    "# Draw the optimal path in red\n",
    "path_edges = list(zip(path, path[1:]))\n",
    "nx.draw_networkx_edges(G, pos, edgelist=path_edges, edge_color='red', width=4)\n",
    "plt.title(f\"Optimal Path: {' ➝ '.join(path)}\\nTotal Cost: ₹{total_cost*100:.2f}\", fontsize=14)\n",
    "plt.axis('off')\n",
    "plt.show()\n"
   ]
  },
  {
   "cell_type": "code",
   "execution_count": null,
   "id": "d59d65fa-8fd1-4a41-8493-e500099cc6b5",
   "metadata": {},
   "outputs": [],
   "source": []
  },
  {
   "cell_type": "code",
   "execution_count": null,
   "id": "cb97a013-20f1-4325-9380-8951008ae872",
   "metadata": {},
   "outputs": [],
   "source": []
  },
  {
   "cell_type": "code",
   "execution_count": null,
   "id": "0b2e5003-8ed3-4e0c-831c-f06534620e9e",
   "metadata": {},
   "outputs": [],
   "source": []
  },
  {
   "cell_type": "code",
   "execution_count": null,
   "id": "d648a85b-5a32-4949-bf3a-01b8eaf1dde8",
   "metadata": {},
   "outputs": [],
   "source": []
  }
 ],
 "metadata": {
  "kernelspec": {
   "display_name": "Python 3 (ipykernel)",
   "language": "python",
   "name": "python3"
  },
  "language_info": {
   "codemirror_mode": {
    "name": "ipython",
    "version": 3
   },
   "file_extension": ".py",
   "mimetype": "text/x-python",
   "name": "python",
   "nbconvert_exporter": "python",
   "pygments_lexer": "ipython3",
   "version": "3.12.8"
  }
 },
 "nbformat": 4,
 "nbformat_minor": 5
}
